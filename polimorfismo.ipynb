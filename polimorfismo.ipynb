{
  "nbformat": 4,
  "nbformat_minor": 0,
  "metadata": {
    "colab": {
      "provenance": [],
      "authorship_tag": "ABX9TyNZO0+OFC6lmMt9fVqTVgk4",
      "include_colab_link": true
    },
    "kernelspec": {
      "name": "python3",
      "display_name": "Python 3"
    },
    "language_info": {
      "name": "python"
    }
  },
  "cells": [
    {
      "cell_type": "markdown",
      "metadata": {
        "id": "view-in-github",
        "colab_type": "text"
      },
      "source": [
        "<a href=\"https://colab.research.google.com/github/GustavoHenriqueDEV/teste/blob/main/polimorfismo.ipynb\" target=\"_parent\"><img src=\"https://colab.research.google.com/assets/colab-badge.svg\" alt=\"Open In Colab\"/></a>"
      ]
    },
    {
      "cell_type": "code",
      "execution_count": null,
      "metadata": {
        "id": "Ue7mRJ1UpBhO"
      },
      "outputs": [],
      "source": [
        "class User:\n",
        "    def __init__(self):\n",
        "        self.points = 0\n",
        "        self.numArticles = 0\n",
        "\n",
        "    def setNumArticles(self, num):\n",
        "        if isinstance(num, int):\n",
        "            self.numArticles = num\n",
        "        else:\n",
        "            print(\"Number of articles must be an integer.\")\n",
        "\n",
        "    def getNumArticles(self):\n",
        "        return self.numArticles\n",
        "\n",
        "    def calcScore(self):\n",
        "        pass\n",
        "\n",
        "class Author(User):\n",
        "    def calcScore(self):\n",
        "        return self.numArticles * 10 + 20\n",
        "\n",
        "class Editor(User):\n",
        "    def calcScore(self):\n",
        "        return self.numArticles * 6 + 15\n",
        "\n",
        "author1 = Author()\n",
        "author1.setNumArticles(8)\n",
        "print(\"Author's score:\", author1.calcScore())\n",
        "\n",
        "editor1 = Editor()\n",
        "editor1.setNumArticles(15)\n",
        "print(\"Editor's score:\", editor1.calcScore())\n"
      ]
    },
    {
      "cell_type": "code",
      "source": [
        "class Animal:\n",
        "    def speak(self):\n",
        "        pass\n",
        "\n",
        "class Dog(Animal):\n",
        "    def speak(self):\n",
        "        return \"Woof!\"\n",
        "\n",
        "class Cat(Animal):\n",
        "    def speak(self):\n",
        "        return \"Meow!\"\n",
        "\n",
        "class Fish(Animal):\n",
        "    def speak(self):\n",
        "        return \"Blub!\"\n",
        "\n",
        "dog = Dog()\n",
        "cat = Cat()\n",
        "fish = Fish()\n",
        "\n",
        "print(dog.speak())\n",
        "print(cat.speak())\n",
        "print(fish.speak())\n"
      ],
      "metadata": {
        "id": "clSZdcuuqU2a"
      },
      "execution_count": null,
      "outputs": []
    },
    {
      "cell_type": "code",
      "source": [
        "class Animal:\n",
        "    def speak(self):\n",
        "        pass\n",
        "\n",
        "class Dog(Animal):\n",
        "    def speak(self):\n",
        "        return \"Woof!\"\n",
        "\n",
        "class Cat(Animal):\n",
        "    def speak(self):\n",
        "        return \"Meow!\"\n",
        "\n",
        "animals = [Dog(), Cat()]\n",
        "\n",
        "for animal in animals:\n",
        "    print(animal.speak())\n"
      ],
      "metadata": {
        "id": "_97pfLWIqhBC"
      },
      "execution_count": null,
      "outputs": []
    },
    {
      "cell_type": "code",
      "source": [
        "class Car:\n",
        "    def drive(self):\n",
        "        pass\n",
        "\n",
        "class GasCar(Car):\n",
        "    def drive(self):\n",
        "        return \"Driving gas car...\"\n",
        "\n",
        "class ElectricCar(Car):\n",
        "    def drive(self):\n",
        "        return \"Driving electric car...\"\n",
        "\n",
        "def test_drive(car):\n",
        "    return car.drive()\n",
        "\n",
        "gas_car = GasCar()\n",
        "electric_car = ElectricCar()\n",
        "\n",
        "print(test_drive(gas_car))\n",
        "print(test_drive(electric_car))\n"
      ],
      "metadata": {
        "id": "EcR28jUoqhb_"
      },
      "execution_count": null,
      "outputs": []
    },
    {
      "cell_type": "code",
      "source": [
        "import math\n",
        "\n",
        "class Form:\n",
        "    def area(self):\n",
        "        pass\n",
        "\n",
        "class Circle(Form):\n",
        "    def __init__(self, radius):\n",
        "        self.radius = radius\n",
        "\n",
        "    def area(self):\n",
        "        return math.pi * self.radius ** 2\n",
        "\n",
        "class Square(Form):\n",
        "    def __init__(self, side):\n",
        "        self.side = side\n",
        "\n",
        "    def area(self):\n",
        "        return self.side ** 2\n",
        "\n",
        "shapes = [Circle(3), Square(4)]\n",
        "\n",
        "for shape in shapes:\n",
        "    print(\"Area:\", shape.area())"
      ],
      "metadata": {
        "id": "8Q-tJcn1qj6k"
      },
      "execution_count": null,
      "outputs": []
    },
    {
      "cell_type": "code",
      "source": [
        "class Employee:\n",
        "    def pay_salary(self):\n",
        "        pass\n",
        "\n",
        "class HourlyEmployee(Employee):\n",
        "    def __init__(self, hours_worked, hourly_rate):\n",
        "        self.hours_worked = hours_worked\n",
        "        self.hourly_rate = hourly_rate\n",
        "\n",
        "    def pay_salary(self):\n",
        "        return self.hours_worked * self.hourly_rate\n",
        "\n",
        "class MonthlyEmployee(Employee):\n",
        "    def __init__(self, monthly_salary):\n",
        "        self.monthly_salary = monthly_salary\n",
        "\n",
        "    def pay_salary(self):\n",
        "        return self.monthly_salary\n",
        "\n",
        "employees = [HourlyEmployee(40, 20), MonthlyEmployee(3000)]\n",
        "\n",
        "for employee in employees:\n",
        "    print(\"Salary:\", employee.pay_salary())"
      ],
      "metadata": {
        "id": "Qcz919sNqmFR"
      },
      "execution_count": null,
      "outputs": []
    },
    {
      "cell_type": "code",
      "source": [
        "class BankAccount:\n",
        "    def __init__(self, balance=0):\n",
        "        self.balance = balance\n",
        "\n",
        "    def deposit(self, amount):\n",
        "        self.balance += amount\n",
        "\n",
        "    def withdraw(self, amount):\n",
        "        if amount <= self.balance:\n",
        "            self.balance -= amount\n",
        "        else:\n",
        "            print(\"Insufficient funds\")\n",
        "\n",
        "class SavingsAccount(BankAccount):\n",
        "    interest_rate = 0.05\n",
        "\n",
        "    def apply_interest(self):\n",
        "        self.balance += self.balance * self.interest_rate\n",
        "\n",
        "class CheckingAccount(BankAccount):\n",
        "    interest_rate = 0.03\n",
        "\n",
        "savings_account = SavingsAccount(1000)\n",
        "checking_account = CheckingAccount(2000)\n",
        "\n",
        "print(\"Initial balance in savings account:\", savings_account.balance)\n",
        "savings_account.deposit(500)\n",
        "savings_account.apply_interest()\n",
        "print(\"Balance after deposit and interest in savings account:\", savings_account.balance)\n",
        "\n",
        "print(\"Initial balance in checking account:\", checking_account.balance)\n",
        "checking_account.withdraw(500)\n",
        "print(\"Balance after withdrawal in checking account:\", checking_account.balance)"
      ],
      "metadata": {
        "id": "Gx-ay73Nqn7o"
      },
      "execution_count": null,
      "outputs": []
    }
  ]
}